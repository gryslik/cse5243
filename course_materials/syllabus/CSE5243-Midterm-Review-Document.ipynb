{
 "cells": [
  {
   "attachments": {},
   "cell_type": "markdown",
   "metadata": {},
   "source": [
    "# CSE 5243 - Introduction to Data Mining\n",
    "## Midterm Review Document\n",
    "- Semester: Spring 2023\n",
    "***\n",
    "\n"
   ]
  },
  {
   "attachments": {},
   "cell_type": "markdown",
   "metadata": {},
   "source": [
    "#### General notes:\n",
    "\n",
    "The midterm will take place over 4 days. You will have from Thursday (03/02/2023) at 10 am to Sunday (03/05/2023) pm to complete the assignment. \n",
    "\n",
    "The midterm is in a jupyter notebook format. You can edit the cells with your answers and submit the revised notebook (both the .ipnyb file and an html/pdf version). If you need to write out a calculation, feel free to take a picture with your phone, and then attach it as part of the jupyter notebook.\n",
    "\n",
    "You will be required to hand in the notebook and an PDF or HTML printout of that notebook. If you don't hand in both points will be deducted."
   ]
  },
  {
   "cell_type": "markdown",
   "metadata": {},
   "source": [
    "#### Part 1 (True/False)\n",
    "\n",
    "1) Understand how the Naive Bayes Classifier work and how you might measure accuracy of such a classification algorithm. <br>\n",
    "2) Underestand different measures of similarity, distance, correlation etc.  <br>\n",
    "3) Underestand where cross-validation might be used and how it tunes hyper-parameters of machine learning algorithms"
   ]
  },
  {
   "cell_type": "markdown",
   "metadata": {},
   "source": [
    "#### Part 2 (Numerical Computation)\n",
    "1) Be able to perform various goodness of fit computations for a general machine learning algorithm (accuracy, sensitivity, specifity, precision, recall, F1, etc) <br>\n",
    "2) Be able to compute conditional probabilities (especially in the context of naive bayes but also for general probability questions). <br>\n",
    "3) Be able to grow a single tree and understand how a split occurs using measures such as entropy, gini, etc.  <br>\n",
    "4) Understand how logistic regression works, how it relates to odds ratios for 2x2 tables and how to test those odds ratios using a null hypothesis test. <br>\n",
    "5) Understand the forward and backward pass computational updates for a neural net (and yes, that might involve a small amount of calculus)! <br>\n",
    "6) Be able to fit some parameters to common statistical distributions using the maximum likelihood algorithm. <br>"
   ]
  },
  {
   "cell_type": "markdown",
   "metadata": {},
   "source": [
    "#### Part 3 (Computational Analysis)\n",
    "1) Be able to load some publicly available data into a jupyter notebook. 2) Set a seed (to fix results) and split the data into training and test sets.\n",
    "3) Be able to train different models on the same data (Random Forests, kNN, support vector machines, etc) and evaluate their accuracy on the test data as appropriate. "
   ]
  }
 ],
 "metadata": {
  "kernelspec": {
   "display_name": "Python 3",
   "language": "python",
   "name": "python3"
  },
  "language_info": {
   "codemirror_mode": {
    "name": "ipython",
    "version": 3
   },
   "file_extension": ".py",
   "mimetype": "text/x-python",
   "name": "python",
   "nbconvert_exporter": "python",
   "pygments_lexer": "ipython3",
   "version": "3.8.5"
  }
 },
 "nbformat": 4,
 "nbformat_minor": 4
}
