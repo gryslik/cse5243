{
 "cells": [
  {
   "cell_type": "markdown",
   "metadata": {},
   "source": [
    "# CSE 5243 - Introduction to Data Mining\n",
    "## Final Review Document\n",
    "- Semester: Fall 2021\n",
    "***\n",
    "\n"
   ]
  },
  {
   "cell_type": "markdown",
   "metadata": {},
   "source": [
    "#### General notes:\n",
    "\n",
    "The midterm will be released Wednesday afternoon and be due Saturday afternoon. \n",
    "\n",
    "\n",
    "It has 21 questions with the last question being a bonus question."
   ]
  },
  {
   "cell_type": "markdown",
   "metadata": {},
   "source": [
    "### Main Question Groups:\n",
    "#### Association Analysis\n",
    "- Understand how to count the number of closed, frequent & maximal frequent itemssets.\n",
    "- Understand Rule Generation and the anti-monotone property of rules.\n",
    "- Rule & itemset properties\n",
    "- The apriori method for pruning.\n",
    "- What are cross-support patterns?\n",
    "\n",
    "#### Clustering algorithms:\n",
    "- DBSCan\n",
    "- K Nearest Neighbors\n",
    "- Agglomerative Hierarchical clustering/ Cross-Linkage\n",
    "- SSE for custeres\n",
    "\n",
    "\n",
    "#### Classification \n",
    "- Accuracy/Precision/Recall/F1\n",
    "- Decision trees and ensemble classifiers (like Random Forests)\n",
    "\n",
    "#### Logistic Regression\n",
    "- Making predictions using a formula.\n",
    "- Probability & Odds calculationa from the coefficients.\n",
    "\n",
    "#### MSE/Bias/Variance\n",
    "- Understand the $MSE(\\hat{\\theta}) = Var(\\hat{\\theta}) + Bias^2(\\hat{\\theta})$ and how to use that formula for an estimator.\n",
    "\n",
    "#### Similarity metrics\n",
    "- Cosine similarity and it's properties\n",
    "- Cossine vs Jaccard similarity\n",
    "\n",
    "#### Missing data\n",
    "- Understand the difference between MCAR, MAR, and MNAR.\n",
    "\n",
    "#### Bonus question\n",
    "- Some probability on how to make a game against your friends for both fun and profit :-)."
   ]
  },
  {
   "cell_type": "code",
   "execution_count": null,
   "metadata": {},
   "outputs": [],
   "source": []
  }
 ],
 "metadata": {
  "kernelspec": {
   "display_name": "Python 3",
   "language": "python",
   "name": "python3"
  },
  "language_info": {
   "codemirror_mode": {
    "name": "ipython",
    "version": 3
   },
   "file_extension": ".py",
   "mimetype": "text/x-python",
   "name": "python",
   "nbconvert_exporter": "python",
   "pygments_lexer": "ipython3",
   "version": "3.8.5"
  }
 },
 "nbformat": 4,
 "nbformat_minor": 4
}
